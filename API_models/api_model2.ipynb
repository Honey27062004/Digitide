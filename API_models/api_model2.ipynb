{
 "cells": [
  {
   "cell_type": "code",
   "execution_count": 6,
   "id": "c17a6590-034a-40f5-8de7-3ffb56ea8d2e",
   "metadata": {
    "tags": []
   },
   "outputs": [],
   "source": [
    "from transformers import pipeline\n",
    "# import warnings\n",
    "\n",
    "# warnings.filterwarnings(\"ignore\")\n",
    "\n"
   ]
  },
  {
   "cell_type": "code",
   "execution_count": 7,
   "id": "4fed53db-8e52-4b41-b34d-6006d1662f9b",
   "metadata": {
    "tags": []
   },
   "outputs": [],
   "source": [
    "def main():\n",
    "    print(\"🔹 Hugging Face Text Generator 🔹\")\n",
    "    \n",
    "    generator = pipeline(\n",
    "        \"text-generation\", \n",
    "        model=\"gpt2-medium\", \n",
    "        pad_token_id=50256\n",
    "    )\n",
    "\n",
    "    while True:\n",
    "        prompt = input(\"\\n📝 Enter your prompt (or type 'exit' to quit): \")\n",
    "        if prompt.lower() == 'exit':\n",
    "            print(\"✅ Exiting the generator. Have a great day!\")\n",
    "            break\n",
    "\n",
    "        output = generator(\n",
    "            prompt,\n",
    "            max_length=150,\n",
    "            num_return_sequences=1,\n",
    "            repetition_penalty=1.2,\n",
    "            temperature=0.9,\n",
    "            top_p=0.95,\n",
    "            do_sample=True\n",
    "        )\n",
    "\n",
    "        print(\"\\n📄 Generated Output:\\n\")\n",
    "        print(output[0]['generated_text'])\n",
    "        print(\"\\n\" + \"-\" * 80)\n"
   ]
  },
  {
   "cell_type": "code",
   "execution_count": null,
   "id": "3cb8a7ef-4518-40b4-8761-4767840abe70",
   "metadata": {
    "tags": []
   },
   "outputs": [
    {
     "name": "stdout",
     "output_type": "stream",
     "text": [
      "🔹 Hugging Face Text Generator 🔹\n"
     ]
    },
    {
     "name": "stdin",
     "output_type": "stream",
     "text": [
      "\n",
      "📝 Enter your prompt (or type 'exit' to quit):  write about school life\n"
     ]
    }
   ],
   "source": [
    "main()\n"
   ]
  },
  {
   "cell_type": "code",
   "execution_count": null,
   "id": "c00c6d2e-6a8f-4f3e-b6c2-4cfbeb0a534a",
   "metadata": {},
   "outputs": [],
   "source": []
  }
 ],
 "metadata": {
  "kernelspec": {
   "display_name": "Python 3 (ipykernel)",
   "language": "python",
   "name": "python3"
  },
  "language_info": {
   "codemirror_mode": {
    "name": "ipython",
    "version": 3
   },
   "file_extension": ".py",
   "mimetype": "text/x-python",
   "name": "python",
   "nbconvert_exporter": "python",
   "pygments_lexer": "ipython3",
   "version": "3.11.5"
  }
 },
 "nbformat": 4,
 "nbformat_minor": 5
}
