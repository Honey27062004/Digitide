{
 "cells": [
  {
   "cell_type": "code",
   "execution_count": null,
   "id": "e1c6e897-d6eb-469f-8f9e-9677092d28dd",
   "metadata": {
    "tags": []
   },
   "outputs": [
    {
     "name": "stdout",
     "output_type": "stream",
     "text": [
      "🔁 Groq AI is ready! Type 'exit' or 'quit' to stop.\n",
      "\n"
     ]
    },
    {
     "name": "stdout",
     "output_type": "stream",
     "text": [
      "📝 Enter your prompt:  write about genai\n"
     ]
    },
    {
     "name": "stdout",
     "output_type": "stream",
     "text": [
      "\n",
      "🤖 AI Response:\n",
      "\n",
      "GenAI! That's a fascinating topic. GenAI, short for Generative Artificial Intelligence, is a subset of artificial intelligence that focuses on creating new, original content, such as images, videos, music, text, or even entire conversations. The goal of GenAI is to generate content that is often indistinguishable from that created by humans.\n",
      "\n",
      "**How does GenAI work?**\n",
      "\n",
      "GenAI models are trained on massive datasets of existing content, which enables them to learn patterns, relationships, and structures within that data. This training process involves complex algorithms, such as deep learning and neural networks, that allow the model to generate new content based on what it has learned.\n",
      "\n",
      "There are several techniques used in GenAI, including:\n",
      "\n",
      "1. **Generative Adversarial Networks (GANs)**: A type of deep learning algorithm that pits two neural networks against each other to generate new content.\n",
      "2. **Variational Autoencoders (VAEs)**: A type of neural network that learns to compress and reconstruct data, allowing it to generate new content.\n",
      "3. **Recurrent Neural Networks (RNNs)**: A type of neural network that processes sequential data, such as text or music, to generate new content.\n",
      "\n",
      "**Applications of GenAI**\n",
      "\n",
      "GenAI has numerous applications across various industries, including:\n",
      "\n",
      "1. **Art and Design**: GenAI can create stunning artwork, designs, and even music, which can be used in various creative fields.\n",
      "2. **Content Generation**: GenAI can generate high-quality content, such as blog posts, articles, and social media posts, saving time and effort for content creators.\n",
      "3. **Chatbots and Virtual Assistants**: GenAI-powered chatbots can engage in natural-sounding conversations, making them ideal for customer service and support.\n",
      "4. **Data Augmentation**: GenAI can generate synthetic data to augment existing datasets, which can be useful in fields like medicine, finance, and education.\n",
      "5. **Entertainment**: GenAI can create realistic characters, dialogue, and even entire stories for movies, video games, and other forms of entertainment.\n",
      "\n",
      "**Challenges and Limitations**\n",
      "\n",
      "While GenAI is a rapidly advancing field, it's not without its challenges and limitations. Some of the key concerns include:\n",
      "\n",
      "1. **Bias and Fairness**: GenAI models can perpetuate biases present in the training data, leading to unfair outcomes.\n",
      "2. **Lack of Human Touch**: GenAI-generated content may lack the emotional depth and nuance that human creators bring to their work.\n",
      "3. **Intellectual Property**: The ownership and copyright of GenAI-generated content are still unclear, leading to potential legal issues.\n",
      "\n",
      "**Conclusion**\n",
      "\n",
      "GenAI is a powerful technology with vast potential to transform various industries and aspects of our lives. While it's essential to acknowledge the challenges and limitations, the benefits of GenAI are undeniable. As the technology continues to evolve, we can expect to see even more innovative applications and transformations in the years to come.\n",
      "--------------------------------------------------\n",
      "\n"
     ]
    },
    {
     "name": "stdout",
     "output_type": "stream",
     "text": [
      "📝 Enter your prompt:  explain me about what is it\n"
     ]
    },
    {
     "name": "stdout",
     "output_type": "stream",
     "text": [
      "\n",
      "🤖 AI Response:\n",
      "\n",
      "I'm happy to explain what \"it\" refers to, but I need a bit more context. You see, \"it\" is a pronoun that can replace a noun or a phrase in a sentence, making it a bit ambiguous without more information.\n",
      "\n",
      "Could you please provide more context or clarify what you're referring to when you say \"what is it\"? For example:\n",
      "\n",
      "* Are you asking about a specific topic or concept?\n",
      "* Are you referring to an object, a person, or an idea?\n",
      "* Is there a particular situation or scenario you're trying to understand?\n",
      "\n",
      "Once I have a better understanding of what you're looking for, I'll do my best to provide a helpful explanation!\n",
      "--------------------------------------------------\n",
      "\n"
     ]
    },
    {
     "name": "stdout",
     "output_type": "stream",
     "text": [
      "📝 Enter your prompt:  exit\n"
     ]
    },
    {
     "name": "stdout",
     "output_type": "stream",
     "text": [
      "👋 Exiting the session. See you next time!\n"
     ]
    }
   ],
   "source": [
    "import requests, json\n",
    "\n",
    "api_key = \"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\"\n",
    "\n",
    "\n",
    "url = \"https://api.groq.com/openai/v1/chat/completions\"\n",
    "headers = {\n",
    "    \"Authorization\": f\"Bearer {api_key}\",\n",
    "    \"Content-Type\": \"application/json\"\n",
    "}\n",
    "\n",
    "print(\"🔁 Groq AI is ready! Type 'exit' or 'quit' to stop.\\n\")\n",
    "\n",
    "while True:\n",
    "    user_prompt = input(\"📝 Enter your prompt: \")\n",
    "\n",
    "    if user_prompt.strip().lower() in [\"exit\", \"quit\"]:\n",
    "        print(\"👋 Exiting the session. See you next time!\")\n",
    "        break\n",
    "\n",
    "    payload = {\n",
    "        \"model\": \"llama3-70b-8192\",\n",
    "        \"messages\": [\n",
    "            {\"role\": \"system\", \"content\": \"You are a helpful assistant.\"},\n",
    "            {\"role\": \"user\", \"content\": user_prompt}\n",
    "        ],\n",
    "        \"temperature\": 0.7\n",
    "    }\n",
    "\n",
    "    response = requests.post(url, headers=headers, data=json.dumps(payload))\n",
    "\n",
    "    if response.status_code == 200:\n",
    "        reply = response.json()['choices'][0]['message']['content']\n",
    "        print(\"\\n🤖 AI Response:\\n\")\n",
    "        print(reply + \"\\n\" + \"-\"*50 + \"\\n\")\n",
    "    else:\n",
    "        print(\"❌ Error:\", response.status_code, response.text)\n"
   ]
  },
  {
   "cell_type": "code",
   "execution_count": null,
   "id": "d2406ad1-4c6f-44dd-9feb-28d721b642ac",
   "metadata": {},
   "outputs": [],
   "source": []
  }
 ],
 "metadata": {
  "kernelspec": {
   "display_name": "Python 3 (ipykernel)",
   "language": "python",
   "name": "python3"
  },
  "language_info": {
   "codemirror_mode": {
    "name": "ipython",
    "version": 3
   },
   "file_extension": ".py",
   "mimetype": "text/x-python",
   "name": "python",
   "nbconvert_exporter": "python",
   "pygments_lexer": "ipython3",
   "version": "3.11.5"
  }
 },
 "nbformat": 4,
 "nbformat_minor": 5
}
